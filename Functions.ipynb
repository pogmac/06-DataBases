{
 "cells": [
  {
   "cell_type": "code",
   "execution_count": 1,
   "id": "00cbdbc6",
   "metadata": {},
   "outputs": [],
   "source": [
    "# We use word \"def\" next comes the name of the function and (optional) \n",
    "# arguments of the function. In the next lines we write what \n",
    "# the function will do and what result it will produce"
   ]
  },
  {
   "cell_type": "code",
   "execution_count": 3,
   "id": "87f45bc6",
   "metadata": {},
   "outputs": [
    {
     "name": "stdout",
     "output_type": "stream",
     "text": [
      "5\n"
     ]
    }
   ],
   "source": [
    "def addition (a, b):\n",
    "    result = a +b\n",
    "    print(result)"
   ]
  },
  {
   "cell_type": "code",
   "execution_count": 4,
   "id": "716c0864",
   "metadata": {},
   "outputs": [],
   "source": [
    "# we use round brackets to pass arguments to the function"
   ]
  },
  {
   "cell_type": "code",
   "execution_count": 7,
   "id": "c73692ae",
   "metadata": {},
   "outputs": [],
   "source": [
    "# Here is an example of how the function works: "
   ]
  },
  {
   "cell_type": "code",
   "execution_count": 6,
   "id": "eae508b6",
   "metadata": {},
   "outputs": [
    {
     "name": "stdout",
     "output_type": "stream",
     "text": [
      "5\n"
     ]
    }
   ],
   "source": [
    "addition(2,3)"
   ]
  },
  {
   "cell_type": "code",
   "execution_count": null,
   "id": "71f0b656",
   "metadata": {},
   "outputs": [],
   "source": []
  }
 ],
 "metadata": {
  "celltoolbar": "Raw Cell Format",
  "kernelspec": {
   "display_name": "Python 3 (ipykernel)",
   "language": "python",
   "name": "python3"
  },
  "language_info": {
   "codemirror_mode": {
    "name": "ipython",
    "version": 3
   },
   "file_extension": ".py",
   "mimetype": "text/x-python",
   "name": "python",
   "nbconvert_exporter": "python",
   "pygments_lexer": "ipython3",
   "version": "3.11.1"
  }
 },
 "nbformat": 4,
 "nbformat_minor": 5
}
